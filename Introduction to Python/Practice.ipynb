{
 "cells": [
  {
   "cell_type": "code",
   "execution_count": 1,
   "id": "bb27280f",
   "metadata": {},
   "outputs": [],
   "source": [
    "word = ['1','2','3','4']\n",
    "\n",
    "word[ : ] = [ ]"
   ]
  },
  {
   "cell_type": "code",
   "execution_count": 2,
   "id": "5b709fee",
   "metadata": {},
   "outputs": [
    {
     "name": "stdout",
     "output_type": "stream",
     "text": [
      "[]\n"
     ]
    }
   ],
   "source": [
    "print(word)"
   ]
  },
  {
   "cell_type": "code",
   "execution_count": 7,
   "id": "807670c4",
   "metadata": {},
   "outputs": [
    {
     "name": "stdout",
     "output_type": "stream",
     "text": [
      "[1, 2, 2, 3, 4, 5, 5]\n"
     ]
    }
   ],
   "source": [
    "list1 = [1,2,2,3,4,5,5]\n",
    "print(list1)"
   ]
  },
  {
   "cell_type": "code",
   "execution_count": 8,
   "id": "6cd56f7d",
   "metadata": {},
   "outputs": [
    {
     "name": "stdout",
     "output_type": "stream",
     "text": [
      "{1, 2, 3, 4, 5}\n"
     ]
    }
   ],
   "source": [
    "set1 = set(list1)\n",
    "print(set1)"
   ]
  },
  {
   "cell_type": "code",
   "execution_count": 9,
   "id": "4c74a94a",
   "metadata": {},
   "outputs": [
    {
     "name": "stdout",
     "output_type": "stream",
     "text": [
      "[1, 2, 3, 4, 5]\n"
     ]
    }
   ],
   "source": [
    "list2 = list(set1)\n",
    "print(list2)"
   ]
  },
  {
   "cell_type": "code",
   "execution_count": 11,
   "id": "c27359e4",
   "metadata": {},
   "outputs": [
    {
     "name": "stdout",
     "output_type": "stream",
     "text": [
      "Enter your score 10\n"
     ]
    }
   ],
   "source": [
    "score = int(input(\"Enter your score \"))"
   ]
  },
  {
   "cell_type": "code",
   "execution_count": 12,
   "id": "b1d4b7c5",
   "metadata": {},
   "outputs": [
    {
     "data": {
      "text/plain": [
       "int"
      ]
     },
     "execution_count": 12,
     "metadata": {},
     "output_type": "execute_result"
    }
   ],
   "source": [
    "type(score)"
   ]
  },
  {
   "cell_type": "code",
   "execution_count": 14,
   "id": "ed020ea0",
   "metadata": {},
   "outputs": [],
   "source": [
    "paragraph = [\"There was a fox.\" , 'It was brown in color.', \"It was seen near that farm sometime back\"]"
   ]
  },
  {
   "cell_type": "code",
   "execution_count": 15,
   "id": "91ef8483",
   "metadata": {},
   "outputs": [],
   "source": [
    "# ['There', 'was', 'a', 'fox.', 'It', 'was', 'brown', 'in', 'color.', 'It', 'was', 'seen', 'near', 'that', 'farm', 'sometime', 'back']"
   ]
  },
  {
   "cell_type": "code",
   "execution_count": 17,
   "id": "83e7e0d7",
   "metadata": {},
   "outputs": [
    {
     "name": "stdout",
     "output_type": "stream",
     "text": [
      "['There', 'was', 'a', 'fox.', 'It', 'was', 'brown', 'in', 'color.', 'It', 'was', 'seen', 'near', 'that', 'farm', 'sometime', 'back']\n"
     ]
    }
   ],
   "source": [
    "single_word_list =[]\n",
    "\n",
    "for sentence in paragraph:\n",
    "    for word in sentence.split( ):\n",
    "        single_word_list.append(word)\n",
    "\n",
    "print(single_word_list)"
   ]
  },
  {
   "cell_type": "code",
   "execution_count": null,
   "id": "4ba87562",
   "metadata": {},
   "outputs": [],
   "source": [
    "single_word_list  = [word for sentence in paragraph for word in sentence.split()]\n",
    "print(single_word_list)"
   ]
  },
  {
   "cell_type": "code",
   "execution_count": 4,
   "id": "d18e6152",
   "metadata": {},
   "outputs": [
    {
     "name": "stdout",
     "output_type": "stream",
     "text": [
      "[6, 8, 10, 12, 9]\n"
     ]
    }
   ],
   "source": [
    "list1 = [1,2,3,4,0,0]\n",
    "list2 = [5,6,7,8,9]\n",
    "sum1 = list(map(lambda x,y : x+y,list1,list2))\n",
    "print(sum1)"
   ]
  },
  {
   "cell_type": "code",
   "execution_count": 6,
   "id": "175147d0",
   "metadata": {},
   "outputs": [
    {
     "name": "stdout",
     "output_type": "stream",
     "text": [
      "140294301608272\n",
      "140294301608272\n"
     ]
    }
   ],
   "source": [
    "i = 2\n",
    "j = i\n",
    "print(id(i))\n",
    "print(id(j))"
   ]
  },
  {
   "cell_type": "code",
   "execution_count": 11,
   "id": "35ff804a",
   "metadata": {},
   "outputs": [
    {
     "name": "stdout",
     "output_type": "stream",
     "text": [
      "1\n"
     ]
    }
   ],
   "source": [
    "for i in range(1,2):\n",
    "    print(i)"
   ]
  },
  {
   "cell_type": "code",
   "execution_count": 14,
   "id": "6ab0fe96",
   "metadata": {},
   "outputs": [],
   "source": [
    "import numpy as np"
   ]
  },
  {
   "cell_type": "code",
   "execution_count": 25,
   "id": "4a724caf",
   "metadata": {},
   "outputs": [],
   "source": [
    "np_heights = np.array([71,74,76,72,72])"
   ]
  },
  {
   "cell_type": "code",
   "execution_count": 26,
   "id": "6279aaaf",
   "metadata": {},
   "outputs": [
    {
     "data": {
      "text/plain": [
       "array([71, 74, 76, 72, 72])"
      ]
     },
     "execution_count": 26,
     "metadata": {},
     "output_type": "execute_result"
    }
   ],
   "source": [
    "np_heights"
   ]
  },
  {
   "cell_type": "code",
   "execution_count": 27,
   "id": "86014223",
   "metadata": {},
   "outputs": [
    {
     "data": {
      "text/plain": [
       "numpy.ndarray"
      ]
     },
     "execution_count": 27,
     "metadata": {},
     "output_type": "execute_result"
    }
   ],
   "source": [
    "type(np_heights)"
   ]
  },
  {
   "cell_type": "code",
   "execution_count": 28,
   "id": "e190609c",
   "metadata": {},
   "outputs": [
    {
     "data": {
      "text/plain": [
       "array([180.34, 187.96, 193.04, 182.88, 182.88])"
      ]
     },
     "execution_count": 28,
     "metadata": {},
     "output_type": "execute_result"
    }
   ],
   "source": [
    "np_heights * 2.54"
   ]
  },
  {
   "cell_type": "code",
   "execution_count": 31,
   "id": "3c888973",
   "metadata": {},
   "outputs": [],
   "source": [
    "list1 = [1,2,3]\n",
    "list2 = [4,5,6]\n",
    "list3 = list1 + list2"
   ]
  },
  {
   "cell_type": "code",
   "execution_count": 32,
   "id": "c66f6c1b",
   "metadata": {},
   "outputs": [
    {
     "data": {
      "text/plain": [
       "[1, 2, 3, 4, 5, 6]"
      ]
     },
     "execution_count": 32,
     "metadata": {},
     "output_type": "execute_result"
    }
   ],
   "source": [
    "list3"
   ]
  },
  {
   "cell_type": "code",
   "execution_count": 29,
   "id": "18d5c8a3",
   "metadata": {},
   "outputs": [],
   "source": [
    "np1 = np.array([1,2,3])\n",
    "np2 = np.array([4,5,6])\n",
    "np3 = np1 + np2"
   ]
  },
  {
   "cell_type": "code",
   "execution_count": 30,
   "id": "d5ae591c",
   "metadata": {},
   "outputs": [
    {
     "data": {
      "text/plain": [
       "array([5, 7, 9])"
      ]
     },
     "execution_count": 30,
     "metadata": {},
     "output_type": "execute_result"
    }
   ],
   "source": [
    "np3"
   ]
  },
  {
   "cell_type": "code",
   "execution_count": 35,
   "id": "89eb2d0c",
   "metadata": {},
   "outputs": [
    {
     "data": {
      "text/plain": [
       "array(['1.0', '2.25', '3', '4', 'True', 'False', 'True'], dtype='<U32')"
      ]
     },
     "execution_count": 35,
     "metadata": {},
     "output_type": "execute_result"
    }
   ],
   "source": [
    "nparray1 = np.array([1.0,2.25,3,4,True,False])\n",
    "nparray1"
   ]
  },
  {
   "cell_type": "code",
   "execution_count": 42,
   "id": "31ddd429",
   "metadata": {},
   "outputs": [],
   "source": [
    "ck = np.random.randint(3,10)"
   ]
  },
  {
   "cell_type": "code",
   "execution_count": 43,
   "id": "8cd58859",
   "metadata": {},
   "outputs": [
    {
     "data": {
      "text/plain": [
       "4"
      ]
     },
     "execution_count": 43,
     "metadata": {},
     "output_type": "execute_result"
    }
   ],
   "source": [
    "ck"
   ]
  },
  {
   "cell_type": "code",
   "execution_count": 44,
   "id": "c82d9dea",
   "metadata": {},
   "outputs": [
    {
     "data": {
      "text/plain": [
       "array([ 1.        ,  1.31034483,  1.62068966,  1.93103448,  2.24137931,\n",
       "        2.55172414,  2.86206897,  3.17241379,  3.48275862,  3.79310345,\n",
       "        4.10344828,  4.4137931 ,  4.72413793,  5.03448276,  5.34482759,\n",
       "        5.65517241,  5.96551724,  6.27586207,  6.5862069 ,  6.89655172,\n",
       "        7.20689655,  7.51724138,  7.82758621,  8.13793103,  8.44827586,\n",
       "        8.75862069,  9.06896552,  9.37931034,  9.68965517, 10.        ])"
      ]
     },
     "execution_count": 44,
     "metadata": {},
     "output_type": "execute_result"
    }
   ],
   "source": [
    "np.linspace(1,10,30)"
   ]
  },
  {
   "cell_type": "code",
   "execution_count": 45,
   "id": "74814567",
   "metadata": {},
   "outputs": [
    {
     "ename": "AttributeError",
     "evalue": "module 'numpy' has no attribute 'zeroes'",
     "output_type": "error",
     "traceback": [
      "\u001b[0;31m---------------------------------------------------------------------------\u001b[0m",
      "\u001b[0;31mAttributeError\u001b[0m                            Traceback (most recent call last)",
      "\u001b[0;32m/var/folders/fj/4trbrrhn72b12j1r1vhm2g080000gn/T/ipykernel_99949/181140450.py\u001b[0m in \u001b[0;36m<module>\u001b[0;34m\u001b[0m\n\u001b[0;32m----> 1\u001b[0;31m \u001b[0mnp\u001b[0m\u001b[0;34m.\u001b[0m\u001b[0mzeroes\u001b[0m\u001b[0;34m(\u001b[0m\u001b[0;34m)\u001b[0m\u001b[0;34m\u001b[0m\u001b[0;34m\u001b[0m\u001b[0m\n\u001b[0m",
      "\u001b[0;32m~/opt/anaconda3/lib/python3.9/site-packages/numpy/__init__.py\u001b[0m in \u001b[0;36m__getattr__\u001b[0;34m(attr)\u001b[0m\n\u001b[1;32m    311\u001b[0m                 \u001b[0;32mreturn\u001b[0m \u001b[0mTester\u001b[0m\u001b[0;34m\u001b[0m\u001b[0;34m\u001b[0m\u001b[0m\n\u001b[1;32m    312\u001b[0m \u001b[0;34m\u001b[0m\u001b[0m\n\u001b[0;32m--> 313\u001b[0;31m             raise AttributeError(\"module {!r} has no attribute \"\n\u001b[0m\u001b[1;32m    314\u001b[0m                                  \"{!r}\".format(__name__, attr))\n\u001b[1;32m    315\u001b[0m \u001b[0;34m\u001b[0m\u001b[0m\n",
      "\u001b[0;31mAttributeError\u001b[0m: module 'numpy' has no attribute 'zeroes'"
     ]
    }
   ],
   "source": [
    "np.zeroes()"
   ]
  },
  {
   "cell_type": "code",
   "execution_count": 5,
   "id": "2264d5d3",
   "metadata": {},
   "outputs": [
    {
     "data": {
      "text/plain": [
       "array([[0, 0],\n",
       "       [0, 0]])"
      ]
     },
     "execution_count": 5,
     "metadata": {},
     "output_type": "execute_result"
    }
   ],
   "source": [
    "import numpy as np\n",
    "np.zeros([2,2],dtype=int)"
   ]
  },
  {
   "cell_type": "code",
   "execution_count": 12,
   "id": "a4517526",
   "metadata": {},
   "outputs": [
    {
     "data": {
      "text/plain": [
       "array([[ 0,  1,  2],\n",
       "       [ 3,  4,  5],\n",
       "       [ 6,  7,  8],\n",
       "       [ 9, 10, 11]])"
      ]
     },
     "execution_count": 12,
     "metadata": {},
     "output_type": "execute_result"
    }
   ],
   "source": [
    "np.arange(12).reshape(4,3)"
   ]
  },
  {
   "cell_type": "code",
   "execution_count": 10,
   "id": "22051ee7",
   "metadata": {},
   "outputs": [
    {
     "data": {
      "text/plain": [
       "array([[ 0,  1,  2,  3],\n",
       "       [ 4,  5,  6,  7],\n",
       "       [ 8,  9, 10, 11]])"
      ]
     },
     "execution_count": 10,
     "metadata": {},
     "output_type": "execute_result"
    }
   ],
   "source": [
    "np.arange(12).reshape(3,4)"
   ]
  },
  {
   "cell_type": "code",
   "execution_count": 54,
   "id": "c0938ee5",
   "metadata": {},
   "outputs": [],
   "source": [
    "list = [1, 5 , 3, 7 , 4, 9]"
   ]
  },
  {
   "cell_type": "code",
   "execution_count": 55,
   "id": "1b53e80b",
   "metadata": {},
   "outputs": [],
   "source": [
    "a = np.array(list)"
   ]
  },
  {
   "cell_type": "code",
   "execution_count": 56,
   "id": "0b07ca18",
   "metadata": {},
   "outputs": [],
   "source": [
    "b = a.reshape(3,2)"
   ]
  },
  {
   "cell_type": "code",
   "execution_count": 57,
   "id": "4b69fa85",
   "metadata": {},
   "outputs": [
    {
     "data": {
      "text/plain": [
       "array([[1, 5],\n",
       "       [3, 7],\n",
       "       [4, 9]])"
      ]
     },
     "execution_count": 57,
     "metadata": {},
     "output_type": "execute_result"
    }
   ],
   "source": [
    "b"
   ]
  },
  {
   "cell_type": "code",
   "execution_count": 63,
   "id": "7877b159",
   "metadata": {},
   "outputs": [
    {
     "data": {
      "text/plain": [
       "array([[1, 5, 3],\n",
       "       [7, 4, 9]])"
      ]
     },
     "execution_count": 63,
     "metadata": {},
     "output_type": "execute_result"
    }
   ],
   "source": [
    "np.reshape(b,(2,3))"
   ]
  },
  {
   "cell_type": "code",
   "execution_count": 33,
   "id": "eb82cbf6",
   "metadata": {},
   "outputs": [],
   "source": [
    "a = [[1, 2, 3, 4, 5],\n",
    " [6, 7, 8, 9, 10],\n",
    " [11, 12, 13, 14, 15],\n",
    " [16, 17, 18, 19, 20]]\n",
    "\n",
    "array_1 = np.array(a)"
   ]
  },
  {
   "cell_type": "code",
   "execution_count": 34,
   "id": "b4d0e169",
   "metadata": {},
   "outputs": [
    {
     "data": {
      "text/plain": [
       "array([[ 1,  2,  3,  4,  5],\n",
       "       [ 6,  7,  8,  9, 10],\n",
       "       [11, 12, 13, 14, 15],\n",
       "       [16, 17, 18, 19, 20]])"
      ]
     },
     "execution_count": 34,
     "metadata": {},
     "output_type": "execute_result"
    }
   ],
   "source": [
    "array_1"
   ]
  },
  {
   "cell_type": "code",
   "execution_count": 38,
   "id": "e6af2f2c",
   "metadata": {},
   "outputs": [
    {
     "ename": "IndexError",
     "evalue": "boolean index did not match indexed array along dimension 0; dimension is 5 but corresponding boolean dimension is 4",
     "output_type": "error",
     "traceback": [
      "\u001b[0;31m---------------------------------------------------------------------------\u001b[0m",
      "\u001b[0;31mIndexError\u001b[0m                                Traceback (most recent call last)",
      "\u001b[0;32m/var/folders/fj/4trbrrhn72b12j1r1vhm2g080000gn/T/ipykernel_22517/3154039480.py\u001b[0m in \u001b[0;36m<module>\u001b[0;34m\u001b[0m\n\u001b[0;32m----> 1\u001b[0;31m \u001b[0mprint\u001b[0m\u001b[0;34m(\u001b[0m\u001b[0marray_1\u001b[0m\u001b[0;34m.\u001b[0m\u001b[0mreshape\u001b[0m\u001b[0;34m(\u001b[0m\u001b[0;36m5\u001b[0m\u001b[0;34m,\u001b[0m \u001b[0;36m4\u001b[0m\u001b[0;34m)\u001b[0m\u001b[0;34m[\u001b[0m\u001b[0marray_1\u001b[0m\u001b[0;34m%\u001b[0m\u001b[0;36m2\u001b[0m \u001b[0;34m!=\u001b[0m \u001b[0;36m0\u001b[0m\u001b[0;34m]\u001b[0m\u001b[0;34m)\u001b[0m\u001b[0;34m\u001b[0m\u001b[0;34m\u001b[0m\u001b[0m\n\u001b[0m",
      "\u001b[0;31mIndexError\u001b[0m: boolean index did not match indexed array along dimension 0; dimension is 5 but corresponding boolean dimension is 4"
     ]
    }
   ],
   "source": [
    "print(array_1.reshape(5, 4)[array_1%2 != 0])"
   ]
  },
  {
   "cell_type": "code",
   "execution_count": 39,
   "id": "4e8c9ce2",
   "metadata": {},
   "outputs": [
    {
     "name": "stdout",
     "output_type": "stream",
     "text": [
      "[ 1  3  5  7  9 11 13 15 17 19]\n"
     ]
    }
   ],
   "source": [
    "print(array_1[array_1%2 != 0])"
   ]
  },
  {
   "cell_type": "code",
   "execution_count": 40,
   "id": "c4ed5fbc",
   "metadata": {},
   "outputs": [
    {
     "name": "stdout",
     "output_type": "stream",
     "text": [
      "[[ 2  4]\n",
      " [ 6  8]\n",
      " [10 12]\n",
      " [14 16]\n",
      " [18 20]]\n"
     ]
    }
   ],
   "source": [
    "print(array_1[array_1%2 == 0].reshape(5, 2))"
   ]
  },
  {
   "cell_type": "code",
   "execution_count": 41,
   "id": "e4511f81",
   "metadata": {},
   "outputs": [
    {
     "name": "stdout",
     "output_type": "stream",
     "text": [
      "[[ 1  3]\n",
      " [ 5  7]\n",
      " [ 9 11]\n",
      " [13 15]\n",
      " [17 19]]\n"
     ]
    }
   ],
   "source": [
    "print(array_1[array_1%2 != 0].reshape(5, 2))"
   ]
  },
  {
   "cell_type": "code",
   "execution_count": null,
   "id": "30963eab",
   "metadata": {},
   "outputs": [],
   "source": []
  }
 ],
 "metadata": {
  "kernelspec": {
   "display_name": "Python 3 (ipykernel)",
   "language": "python",
   "name": "python3"
  },
  "language_info": {
   "codemirror_mode": {
    "name": "ipython",
    "version": 3
   },
   "file_extension": ".py",
   "mimetype": "text/x-python",
   "name": "python",
   "nbconvert_exporter": "python",
   "pygments_lexer": "ipython3",
   "version": "3.9.13"
  }
 },
 "nbformat": 4,
 "nbformat_minor": 5
}
