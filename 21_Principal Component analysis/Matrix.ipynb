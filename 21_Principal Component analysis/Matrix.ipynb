{
 "cells": [
  {
   "cell_type": "code",
   "execution_count": 3,
   "id": "21b0cede",
   "metadata": {},
   "outputs": [],
   "source": [
    "import numpy as np"
   ]
  },
  {
   "cell_type": "code",
   "execution_count": 6,
   "id": "c65ac473",
   "metadata": {},
   "outputs": [],
   "source": [
    "A = np.array([[2,7,1],[-2,1,8],[3,4,-2]])\n",
    "B = np.array([[8,1,3],[3,5,8],[7,-2,-4]])"
   ]
  },
  {
   "cell_type": "code",
   "execution_count": 7,
   "id": "84e22e46",
   "metadata": {},
   "outputs": [],
   "source": [
    "C = A @ B"
   ]
  },
  {
   "cell_type": "code",
   "execution_count": 8,
   "id": "571f464f",
   "metadata": {},
   "outputs": [
    {
     "data": {
      "text/plain": [
       "array([[ 44,  35,  58],\n",
       "       [ 43, -13, -30],\n",
       "       [ 22,  27,  49]])"
      ]
     },
     "execution_count": 8,
     "metadata": {},
     "output_type": "execute_result"
    }
   ],
   "source": [
    "C"
   ]
  },
  {
   "cell_type": "code",
   "execution_count": 9,
   "id": "3cb3b60d",
   "metadata": {},
   "outputs": [],
   "source": [
    "D = np.array([[2,1,1],[3,2,1],[2,1,2]])"
   ]
  },
  {
   "cell_type": "code",
   "execution_count": 10,
   "id": "36428309",
   "metadata": {},
   "outputs": [],
   "source": [
    "E = np.linalg.inv(D)"
   ]
  },
  {
   "cell_type": "code",
   "execution_count": 11,
   "id": "7312f59f",
   "metadata": {},
   "outputs": [
    {
     "data": {
      "text/plain": [
       "array([[ 3., -1., -1.],\n",
       "       [-4.,  2.,  1.],\n",
       "       [-1.,  0.,  1.]])"
      ]
     },
     "execution_count": 11,
     "metadata": {},
     "output_type": "execute_result"
    }
   ],
   "source": [
    "E"
   ]
  },
  {
   "cell_type": "code",
   "execution_count": 1,
   "id": "53391b3b",
   "metadata": {},
   "outputs": [],
   "source": [
    "########"
   ]
  },
  {
   "cell_type": "code",
   "execution_count": 16,
   "id": "d9eef9f0",
   "metadata": {},
   "outputs": [],
   "source": [
    "B2 = np.array([[1,0],[0,1]])"
   ]
  },
  {
   "cell_type": "code",
   "execution_count": 17,
   "id": "0cf42d65",
   "metadata": {},
   "outputs": [
    {
     "data": {
      "text/plain": [
       "array([[1, 0],\n",
       "       [0, 1]])"
      ]
     },
     "execution_count": 17,
     "metadata": {},
     "output_type": "execute_result"
    }
   ],
   "source": [
    "B2"
   ]
  },
  {
   "cell_type": "code",
   "execution_count": 18,
   "id": "f9862029",
   "metadata": {},
   "outputs": [],
   "source": [
    "B2_inv = np.linalg.inv(B2)"
   ]
  },
  {
   "cell_type": "code",
   "execution_count": 19,
   "id": "d5b09594",
   "metadata": {},
   "outputs": [
    {
     "data": {
      "text/plain": [
       "array([[1., 0.],\n",
       "       [0., 1.]])"
      ]
     },
     "execution_count": 19,
     "metadata": {},
     "output_type": "execute_result"
    }
   ],
   "source": [
    "B2_inv"
   ]
  },
  {
   "cell_type": "code",
   "execution_count": 20,
   "id": "6e22d35b",
   "metadata": {},
   "outputs": [],
   "source": [
    "B1 = np.array([[1,1],[2,-1]])"
   ]
  },
  {
   "cell_type": "code",
   "execution_count": 22,
   "id": "c2ecaf30",
   "metadata": {},
   "outputs": [
    {
     "data": {
      "text/plain": [
       "array([[ 1.,  1.],\n",
       "       [ 2., -1.]])"
      ]
     },
     "execution_count": 22,
     "metadata": {},
     "output_type": "execute_result"
    }
   ],
   "source": [
    "B1 @ B2_inv"
   ]
  },
  {
   "cell_type": "code",
   "execution_count": 23,
   "id": "589cf531",
   "metadata": {},
   "outputs": [],
   "source": [
    "##########"
   ]
  },
  {
   "cell_type": "code",
   "execution_count": 24,
   "id": "95cd07e9",
   "metadata": {},
   "outputs": [],
   "source": [
    "v1 = np.array([[8],[6]])"
   ]
  },
  {
   "cell_type": "code",
   "execution_count": 25,
   "id": "84dbf096",
   "metadata": {},
   "outputs": [
    {
     "data": {
      "text/plain": [
       "array([[8],\n",
       "       [6]])"
      ]
     },
     "execution_count": 25,
     "metadata": {},
     "output_type": "execute_result"
    }
   ],
   "source": [
    "v1"
   ]
  },
  {
   "cell_type": "code",
   "execution_count": 26,
   "id": "4e350823",
   "metadata": {},
   "outputs": [],
   "source": [
    "B1 = np.array([[1,0],[0,1]])"
   ]
  },
  {
   "cell_type": "code",
   "execution_count": 27,
   "id": "3ae6d632",
   "metadata": {},
   "outputs": [],
   "source": [
    "B2 = np.array([[2,-2],[1,1]])"
   ]
  },
  {
   "cell_type": "code",
   "execution_count": 28,
   "id": "3b9e6cc7",
   "metadata": {},
   "outputs": [],
   "source": [
    "B2_inv = np.linalg.inv(B2)"
   ]
  },
  {
   "cell_type": "code",
   "execution_count": 31,
   "id": "71697bed",
   "metadata": {},
   "outputs": [],
   "source": [
    "M = B2_inv @ B1 "
   ]
  },
  {
   "cell_type": "code",
   "execution_count": 32,
   "id": "5908cc90",
   "metadata": {},
   "outputs": [
    {
     "data": {
      "text/plain": [
       "array([[ 0.25,  0.5 ],\n",
       "       [-0.25,  0.5 ]])"
      ]
     },
     "execution_count": 32,
     "metadata": {},
     "output_type": "execute_result"
    }
   ],
   "source": [
    "M"
   ]
  },
  {
   "cell_type": "code",
   "execution_count": 35,
   "id": "494c4d7d",
   "metadata": {},
   "outputs": [],
   "source": [
    "v2 = M @ v1"
   ]
  },
  {
   "cell_type": "code",
   "execution_count": 36,
   "id": "656d756b",
   "metadata": {},
   "outputs": [
    {
     "data": {
      "text/plain": [
       "array([[5.],\n",
       "       [1.]])"
      ]
     },
     "execution_count": 36,
     "metadata": {},
     "output_type": "execute_result"
    }
   ],
   "source": [
    "v2"
   ]
  },
  {
   "cell_type": "code",
   "execution_count": 37,
   "id": "2b831e48",
   "metadata": {},
   "outputs": [],
   "source": [
    "#################"
   ]
  },
  {
   "cell_type": "code",
   "execution_count": 42,
   "id": "a9ed9686",
   "metadata": {},
   "outputs": [],
   "source": [
    "B2 = np.array([[1,1],[-2,1]])"
   ]
  },
  {
   "cell_type": "code",
   "execution_count": 43,
   "id": "a74fc76d",
   "metadata": {},
   "outputs": [
    {
     "data": {
      "text/plain": [
       "array([[ 1,  1],\n",
       "       [-2,  1]])"
      ]
     },
     "execution_count": 43,
     "metadata": {},
     "output_type": "execute_result"
    }
   ],
   "source": [
    "B2"
   ]
  },
  {
   "cell_type": "code",
   "execution_count": 44,
   "id": "6482c0fd",
   "metadata": {},
   "outputs": [],
   "source": [
    "B1 = np.array([[1,0],[0,1]])"
   ]
  },
  {
   "cell_type": "code",
   "execution_count": 45,
   "id": "5f1680a5",
   "metadata": {},
   "outputs": [
    {
     "data": {
      "text/plain": [
       "array([[1, 0],\n",
       "       [0, 1]])"
      ]
     },
     "execution_count": 45,
     "metadata": {},
     "output_type": "execute_result"
    }
   ],
   "source": [
    "B1"
   ]
  },
  {
   "cell_type": "code",
   "execution_count": 46,
   "id": "da24dffa",
   "metadata": {},
   "outputs": [],
   "source": [
    "B2_inv = np.linalg.inv(B2)"
   ]
  },
  {
   "cell_type": "code",
   "execution_count": 56,
   "id": "58fc0ad6",
   "metadata": {},
   "outputs": [],
   "source": [
    "v1 = np.array([[25],[28]])"
   ]
  },
  {
   "cell_type": "code",
   "execution_count": 57,
   "id": "126e60d4",
   "metadata": {},
   "outputs": [
    {
     "data": {
      "text/plain": [
       "array([[25],\n",
       "       [28]])"
      ]
     },
     "execution_count": 57,
     "metadata": {},
     "output_type": "execute_result"
    }
   ],
   "source": [
    "v1"
   ]
  },
  {
   "cell_type": "code",
   "execution_count": 49,
   "id": "362c4b24",
   "metadata": {},
   "outputs": [
    {
     "data": {
      "text/plain": [
       "array([[ 0.33333333, -0.33333333],\n",
       "       [ 0.66666667,  0.33333333]])"
      ]
     },
     "execution_count": 49,
     "metadata": {},
     "output_type": "execute_result"
    }
   ],
   "source": [
    "B2_inv"
   ]
  },
  {
   "cell_type": "code",
   "execution_count": 53,
   "id": "1583a5b9",
   "metadata": {},
   "outputs": [],
   "source": [
    "M = B2_inv @ B1"
   ]
  },
  {
   "cell_type": "code",
   "execution_count": 58,
   "id": "01bfe12d",
   "metadata": {},
   "outputs": [],
   "source": [
    "v2 = M @ v1"
   ]
  },
  {
   "cell_type": "code",
   "execution_count": 59,
   "id": "a2ffd0c7",
   "metadata": {},
   "outputs": [
    {
     "data": {
      "text/plain": [
       "array([[-1.],\n",
       "       [26.]])"
      ]
     },
     "execution_count": 59,
     "metadata": {},
     "output_type": "execute_result"
    }
   ],
   "source": [
    "v2"
   ]
  },
  {
   "cell_type": "code",
   "execution_count": 60,
   "id": "b2c3d376",
   "metadata": {},
   "outputs": [],
   "source": [
    "############"
   ]
  },
  {
   "cell_type": "code",
   "execution_count": 67,
   "id": "037935e3",
   "metadata": {},
   "outputs": [],
   "source": [
    "B1 = np.array([[1,0],[0,1]])"
   ]
  },
  {
   "cell_type": "code",
   "execution_count": 74,
   "id": "71ceeafc",
   "metadata": {},
   "outputs": [
    {
     "data": {
      "text/plain": [
       "array([[1, 0],\n",
       "       [0, 1]])"
      ]
     },
     "execution_count": 74,
     "metadata": {},
     "output_type": "execute_result"
    }
   ],
   "source": [
    "B1"
   ]
  },
  {
   "cell_type": "code",
   "execution_count": 68,
   "id": "cc5eabd5",
   "metadata": {},
   "outputs": [],
   "source": [
    "B2 = np.array([[1,1],[-2,1]])"
   ]
  },
  {
   "cell_type": "code",
   "execution_count": 69,
   "id": "1e05cffb",
   "metadata": {},
   "outputs": [],
   "source": [
    "B2_inv = np.linalg.inv(B2)"
   ]
  },
  {
   "cell_type": "code",
   "execution_count": 73,
   "id": "aba9bf2a",
   "metadata": {},
   "outputs": [
    {
     "data": {
      "text/plain": [
       "array([[ 1,  1],\n",
       "       [-2,  1]])"
      ]
     },
     "execution_count": 73,
     "metadata": {},
     "output_type": "execute_result"
    }
   ],
   "source": [
    "B2"
   ]
  },
  {
   "cell_type": "code",
   "execution_count": 70,
   "id": "6062446b",
   "metadata": {},
   "outputs": [
    {
     "data": {
      "text/plain": [
       "array([[ 0.33333333, -0.33333333],\n",
       "       [ 0.66666667,  0.33333333]])"
      ]
     },
     "execution_count": 70,
     "metadata": {},
     "output_type": "execute_result"
    }
   ],
   "source": [
    "B2_inv"
   ]
  },
  {
   "cell_type": "code",
   "execution_count": 71,
   "id": "9d83d30b",
   "metadata": {},
   "outputs": [],
   "source": [
    "v2 = np.array([[-3],[12]])"
   ]
  },
  {
   "cell_type": "code",
   "execution_count": 75,
   "id": "2a37182d",
   "metadata": {},
   "outputs": [
    {
     "data": {
      "text/plain": [
       "array([[-3],\n",
       "       [12]])"
      ]
     },
     "execution_count": 75,
     "metadata": {},
     "output_type": "execute_result"
    }
   ],
   "source": [
    "v2"
   ]
  },
  {
   "cell_type": "code",
   "execution_count": 77,
   "id": "2541633b",
   "metadata": {
    "scrolled": true
   },
   "outputs": [],
   "source": [
    "v1 = B2 @ v2"
   ]
  },
  {
   "cell_type": "code",
   "execution_count": 78,
   "id": "ede79a7d",
   "metadata": {},
   "outputs": [
    {
     "data": {
      "text/plain": [
       "array([[ 9],\n",
       "       [18]])"
      ]
     },
     "execution_count": 78,
     "metadata": {},
     "output_type": "execute_result"
    }
   ],
   "source": [
    "v1"
   ]
  },
  {
   "cell_type": "code",
   "execution_count": 79,
   "id": "502873e6",
   "metadata": {},
   "outputs": [],
   "source": [
    "###################"
   ]
  },
  {
   "cell_type": "code",
   "execution_count": 80,
   "id": "8410a04e",
   "metadata": {},
   "outputs": [],
   "source": [
    "v1 = np.array([[1],[1]])"
   ]
  },
  {
   "cell_type": "code",
   "execution_count": 81,
   "id": "fa95c20c",
   "metadata": {},
   "outputs": [
    {
     "data": {
      "text/plain": [
       "array([[1],\n",
       "       [1]])"
      ]
     },
     "execution_count": 81,
     "metadata": {},
     "output_type": "execute_result"
    }
   ],
   "source": [
    "v1"
   ]
  },
  {
   "cell_type": "code",
   "execution_count": 82,
   "id": "64d15d4d",
   "metadata": {},
   "outputs": [],
   "source": [
    "B1 = np.array([[1,2],[1,1]])"
   ]
  },
  {
   "cell_type": "code",
   "execution_count": 83,
   "id": "5ffa0357",
   "metadata": {},
   "outputs": [
    {
     "data": {
      "text/plain": [
       "array([[1, 2],\n",
       "       [1, 1]])"
      ]
     },
     "execution_count": 83,
     "metadata": {},
     "output_type": "execute_result"
    }
   ],
   "source": [
    "B1"
   ]
  },
  {
   "cell_type": "code",
   "execution_count": 85,
   "id": "f87dd5e7",
   "metadata": {},
   "outputs": [],
   "source": [
    "v2 = B1 @ v1"
   ]
  },
  {
   "cell_type": "code",
   "execution_count": 86,
   "id": "e7f76147",
   "metadata": {},
   "outputs": [
    {
     "data": {
      "text/plain": [
       "array([[3],\n",
       "       [2]])"
      ]
     },
     "execution_count": 86,
     "metadata": {},
     "output_type": "execute_result"
    }
   ],
   "source": [
    "v2"
   ]
  },
  {
   "cell_type": "code",
   "execution_count": 87,
   "id": "5e63356e",
   "metadata": {},
   "outputs": [],
   "source": [
    "###############"
   ]
  },
  {
   "cell_type": "code",
   "execution_count": 88,
   "id": "43495fa9",
   "metadata": {},
   "outputs": [],
   "source": [
    "#Graded Questions"
   ]
  },
  {
   "cell_type": "code",
   "execution_count": 89,
   "id": "67e24e72",
   "metadata": {},
   "outputs": [],
   "source": [
    "v1 = np.array([[3],[2]])"
   ]
  },
  {
   "cell_type": "code",
   "execution_count": 90,
   "id": "d32c8dbf",
   "metadata": {},
   "outputs": [],
   "source": [
    "B1 = np.array([[1,0],[0,1]])"
   ]
  },
  {
   "cell_type": "code",
   "execution_count": 91,
   "id": "d398c7f6",
   "metadata": {},
   "outputs": [],
   "source": [
    "B2 = np.array([[3,-3],[4,-5]])"
   ]
  },
  {
   "cell_type": "code",
   "execution_count": 92,
   "id": "f375d3c3",
   "metadata": {},
   "outputs": [],
   "source": [
    "B2_inv = np.linalg.inv(B2)"
   ]
  },
  {
   "cell_type": "code",
   "execution_count": 93,
   "id": "b27082a2",
   "metadata": {},
   "outputs": [
    {
     "data": {
      "text/plain": [
       "array([[ 1.66666667, -1.        ],\n",
       "       [ 1.33333333, -1.        ]])"
      ]
     },
     "execution_count": 93,
     "metadata": {},
     "output_type": "execute_result"
    }
   ],
   "source": [
    "B2_inv"
   ]
  },
  {
   "cell_type": "code",
   "execution_count": 94,
   "id": "3adf5fed",
   "metadata": {},
   "outputs": [],
   "source": [
    "M = B1 @ B2_inv"
   ]
  },
  {
   "cell_type": "code",
   "execution_count": 95,
   "id": "b9bf1d50",
   "metadata": {},
   "outputs": [
    {
     "data": {
      "text/plain": [
       "array([[ 1.66666667, -1.        ],\n",
       "       [ 1.33333333, -1.        ]])"
      ]
     },
     "execution_count": 95,
     "metadata": {},
     "output_type": "execute_result"
    }
   ],
   "source": [
    "M"
   ]
  },
  {
   "cell_type": "code",
   "execution_count": 96,
   "id": "837e6d2d",
   "metadata": {},
   "outputs": [],
   "source": [
    "v2 = M @ v1"
   ]
  },
  {
   "cell_type": "code",
   "execution_count": 97,
   "id": "e5457dd0",
   "metadata": {},
   "outputs": [
    {
     "data": {
      "text/plain": [
       "array([[3.],\n",
       "       [2.]])"
      ]
     },
     "execution_count": 97,
     "metadata": {},
     "output_type": "execute_result"
    }
   ],
   "source": [
    "v2"
   ]
  },
  {
   "cell_type": "code",
   "execution_count": null,
   "id": "ee15ec8a",
   "metadata": {},
   "outputs": [],
   "source": []
  }
 ],
 "metadata": {
  "kernelspec": {
   "display_name": "Python 3 (ipykernel)",
   "language": "python",
   "name": "python3"
  },
  "language_info": {
   "codemirror_mode": {
    "name": "ipython",
    "version": 3
   },
   "file_extension": ".py",
   "mimetype": "text/x-python",
   "name": "python",
   "nbconvert_exporter": "python",
   "pygments_lexer": "ipython3",
   "version": "3.9.13"
  }
 },
 "nbformat": 4,
 "nbformat_minor": 5
}
