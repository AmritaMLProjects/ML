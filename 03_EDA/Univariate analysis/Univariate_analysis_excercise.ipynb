{
 "cells": [
  {
   "cell_type": "code",
   "execution_count": 19,
   "id": "f42a9924",
   "metadata": {},
   "outputs": [],
   "source": [
    "import pandas as pd\n",
    "import numpy as np\n",
    "import matplotlib.pyplot as plt\n",
    "%matplotlib inline"
   ]
  },
  {
   "cell_type": "code",
   "execution_count": 20,
   "id": "9a151141",
   "metadata": {},
   "outputs": [],
   "source": [
    "ten = pd.read_csv(\"tendulkar_ODI.csv\")"
   ]
  },
  {
   "cell_type": "code",
   "execution_count": 21,
   "id": "aae77a39",
   "metadata": {},
   "outputs": [
    {
     "data": {
      "text/html": [
       "<div>\n",
       "<style scoped>\n",
       "    .dataframe tbody tr th:only-of-type {\n",
       "        vertical-align: middle;\n",
       "    }\n",
       "\n",
       "    .dataframe tbody tr th {\n",
       "        vertical-align: top;\n",
       "    }\n",
       "\n",
       "    .dataframe thead th {\n",
       "        text-align: right;\n",
       "    }\n",
       "</style>\n",
       "<table border=\"1\" class=\"dataframe\">\n",
       "  <thead>\n",
       "    <tr style=\"text-align: right;\">\n",
       "      <th></th>\n",
       "      <th>Unnamed: 0</th>\n",
       "      <th>Runs</th>\n",
       "      <th>Mins</th>\n",
       "      <th>BF</th>\n",
       "      <th>4s</th>\n",
       "      <th>6s</th>\n",
       "      <th>SR</th>\n",
       "      <th>Pos</th>\n",
       "      <th>Dismissal</th>\n",
       "      <th>Inns</th>\n",
       "      <th>Opposition</th>\n",
       "      <th>Ground</th>\n",
       "      <th>Start Date</th>\n",
       "    </tr>\n",
       "  </thead>\n",
       "  <tbody>\n",
       "    <tr>\n",
       "      <th>0</th>\n",
       "      <td>1</td>\n",
       "      <td>0</td>\n",
       "      <td>-</td>\n",
       "      <td>2</td>\n",
       "      <td>0</td>\n",
       "      <td>0</td>\n",
       "      <td>0</td>\n",
       "      <td>5</td>\n",
       "      <td>caught</td>\n",
       "      <td>2</td>\n",
       "      <td>v Pakistan</td>\n",
       "      <td>Gujranwala</td>\n",
       "      <td>18-Dec-89</td>\n",
       "    </tr>\n",
       "    <tr>\n",
       "      <th>1</th>\n",
       "      <td>2</td>\n",
       "      <td>0</td>\n",
       "      <td>2</td>\n",
       "      <td>2</td>\n",
       "      <td>0</td>\n",
       "      <td>0</td>\n",
       "      <td>0</td>\n",
       "      <td>5</td>\n",
       "      <td>caught</td>\n",
       "      <td>2</td>\n",
       "      <td>v New Zealand</td>\n",
       "      <td>Dunedin</td>\n",
       "      <td>1-Mar-90</td>\n",
       "    </tr>\n",
       "    <tr>\n",
       "      <th>2</th>\n",
       "      <td>3</td>\n",
       "      <td>36</td>\n",
       "      <td>51</td>\n",
       "      <td>39</td>\n",
       "      <td>5</td>\n",
       "      <td>0</td>\n",
       "      <td>92.3</td>\n",
       "      <td>6</td>\n",
       "      <td>caught</td>\n",
       "      <td>1</td>\n",
       "      <td>v New Zealand</td>\n",
       "      <td>Wellington</td>\n",
       "      <td>6-Mar-90</td>\n",
       "    </tr>\n",
       "    <tr>\n",
       "      <th>3</th>\n",
       "      <td>4</td>\n",
       "      <td>19</td>\n",
       "      <td>38</td>\n",
       "      <td>35</td>\n",
       "      <td>1</td>\n",
       "      <td>1</td>\n",
       "      <td>54.28</td>\n",
       "      <td>4</td>\n",
       "      <td>bowled</td>\n",
       "      <td>2</td>\n",
       "      <td>v England</td>\n",
       "      <td>Leeds</td>\n",
       "      <td>18-Jul-90</td>\n",
       "    </tr>\n",
       "    <tr>\n",
       "      <th>4</th>\n",
       "      <td>5</td>\n",
       "      <td>31</td>\n",
       "      <td>31</td>\n",
       "      <td>26</td>\n",
       "      <td>3</td>\n",
       "      <td>0</td>\n",
       "      <td>119.23</td>\n",
       "      <td>6</td>\n",
       "      <td>bowled</td>\n",
       "      <td>2</td>\n",
       "      <td>v England</td>\n",
       "      <td>Nottingham</td>\n",
       "      <td>20-Jul-90</td>\n",
       "    </tr>\n",
       "  </tbody>\n",
       "</table>\n",
       "</div>"
      ],
      "text/plain": [
       "   Unnamed: 0 Runs Mins  BF 4s 6s      SR Pos Dismissal Inns     Opposition  \\\n",
       "0           1    0    -   2  0  0       0   5    caught    2     v Pakistan   \n",
       "1           2    0    2   2  0  0       0   5    caught    2  v New Zealand   \n",
       "2           3   36   51  39  5  0    92.3   6    caught    1  v New Zealand   \n",
       "3           4   19   38  35  1  1   54.28   4    bowled    2      v England   \n",
       "4           5   31   31  26  3  0  119.23   6    bowled    2      v England   \n",
       "\n",
       "       Ground Start Date  \n",
       "0  Gujranwala  18-Dec-89  \n",
       "1     Dunedin   1-Mar-90  \n",
       "2  Wellington   6-Mar-90  \n",
       "3       Leeds  18-Jul-90  \n",
       "4  Nottingham  20-Jul-90  "
      ]
     },
     "execution_count": 21,
     "metadata": {},
     "output_type": "execute_result"
    }
   ],
   "source": [
    "ten.head(5)"
   ]
  },
  {
   "cell_type": "code",
   "execution_count": 22,
   "id": "49e8f897",
   "metadata": {},
   "outputs": [
    {
     "data": {
      "text/plain": [
       "Unnamed: 0     int64\n",
       "Runs          object\n",
       "Mins          object\n",
       "BF            object\n",
       "4s            object\n",
       "6s            object\n",
       "SR            object\n",
       "Pos           object\n",
       "Dismissal     object\n",
       "Inns          object\n",
       "Opposition    object\n",
       "Ground        object\n",
       "Start Date    object\n",
       "dtype: object"
      ]
     },
     "execution_count": 22,
     "metadata": {},
     "output_type": "execute_result"
    }
   ],
   "source": [
    "ten.dtypes"
   ]
  },
  {
   "cell_type": "code",
   "execution_count": 23,
   "id": "6aa3e67d",
   "metadata": {},
   "outputs": [
    {
     "data": {
      "text/plain": [
       "array(['0', '36', '19', '31', '53', '30', 'DNB', '4', '62', '1', '57',\n",
       "       '21', '69', '11', '84', '39', '15', '10', '22', '32', '23', '82*',\n",
       "       '3', '24', '5', '34', '8*', '25', '26*', '2', '28*', '11*', '52',\n",
       "       '82', '63', '40', '6', '8', '115', '66', '54', '88', '105', '13',\n",
       "       '7', '65', '127*', '70', '90', '137', '110', '64', '28', '67',\n",
       "       '114', '14', '45', '44', '65*', '9', '117', '27', '100', '33',\n",
       "       '18', '100*', '17', '128', '29', '37', '120', '186*', '12', '26',\n",
       "       '122', '93', '146', '35', '139', '70*', '101', '38', '68', '87*',\n",
       "       '34*', '81', '89', '102', '86', '141', '74', '16', '47', '123',\n",
       "       '67*', '42', '95', '55', '60', 'TDNB', '99', '71', '94', '43',\n",
       "       '79', '72', '97', '117*', '91', '50', '20', '163*', '138', '175',\n",
       "       '96*', '200*', '111', '85'], dtype=object)"
      ]
     },
     "execution_count": 23,
     "metadata": {},
     "output_type": "execute_result"
    }
   ],
   "source": [
    "ten.Runs.unique()"
   ]
  },
  {
   "cell_type": "code",
   "execution_count": 24,
   "id": "3e6479e4",
   "metadata": {},
   "outputs": [],
   "source": [
    "def clean(x):\n",
    "    if x.isnumeric():\n",
    "        y = x\n",
    "    elif '*' in x:\n",
    "        y = x.replace('*','')\n",
    "    else:\n",
    "        y = 0\n",
    "    return int(y)\n",
    "\n",
    "ten[\"Runs\"] = ten[\"Runs\"].apply(clean)"
   ]
  },
  {
   "cell_type": "code",
   "execution_count": 25,
   "id": "a9e2b46f",
   "metadata": {},
   "outputs": [
    {
     "data": {
      "text/plain": [
       "1      16\n",
       "0      15\n",
       "2      14\n",
       "4       9\n",
       "21      8\n",
       "       ..\n",
       "87      1\n",
       "81      1\n",
       "89      1\n",
       "102     1\n",
       "85      1\n",
       "Name: Runs, Length: 105, dtype: int64"
      ]
     },
     "execution_count": 25,
     "metadata": {},
     "output_type": "execute_result"
    }
   ],
   "source": [
    "ten.Runs.value_counts()"
   ]
  },
  {
   "cell_type": "code",
   "execution_count": 30,
   "id": "614a5ea1",
   "metadata": {},
   "outputs": [],
   "source": [
    "?plt.hist"
   ]
  },
  {
   "cell_type": "code",
   "execution_count": 38,
   "id": "a8db1d52",
   "metadata": {},
   "outputs": [
    {
     "data": {
      "image/png": "[encoded data removed]",
      "text/plain": [
       "<Figure size 640x480 with 1 Axes>"
      ]
     },
     "metadata": {},
     "output_type": "display_data"
    }
   ],
   "source": [
    "xticks = (0,200,10)\n",
    "plt.hist(ten.Runs,bins = 10)\n",
    "ticks = np.arange(0, 200, 10)\n",
    "labels = [i for i in ticks]\n",
    "plt.xticks(ticks, labels)\n",
    "plt.xticks(rotation=90)\n",
    "plt.show()"
   ]
  },
  {
   "cell_type": "code",
   "execution_count": 40,
   "id": "932901d4",
   "metadata": {},
   "outputs": [
    {
     "data": {
      "text/plain": [
       "array(['0', '5', '1', '3', '7', '-', '2', '8', '6', '4', '15', '9', '13',\n",
       "       '10', '14', '11', '20', '12', '19', '17', '16', '25'], dtype=object)"
      ]
     },
     "execution_count": 40,
     "metadata": {},
     "output_type": "execute_result"
    }
   ],
   "source": [
    "ten['4s'].unique()"
   ]
  },
  {
   "cell_type": "code",
   "execution_count": 41,
   "id": "26f4b9d6",
   "metadata": {},
   "outputs": [],
   "source": [
    "def clean4s(x):\n",
    "    y = x.replace('-','0')\n",
    "    return int(y)\n",
    "\n",
    "ten[\"4s\"] = ten[\"4s\"].apply(clean4s)"
   ]
  },
  {
   "cell_type": "code",
   "execution_count": 42,
   "id": "86eddc1f",
   "metadata": {},
   "outputs": [
    {
     "data": {
      "text/plain": [
       "array([ 0,  5,  1,  3,  7,  2,  8,  6,  4, 15,  9, 13, 10, 14, 11, 20, 12,\n",
       "       19, 17, 16, 25])"
      ]
     },
     "execution_count": 42,
     "metadata": {},
     "output_type": "execute_result"
    }
   ],
   "source": [
    "ten['4s'].unique()"
   ]
  },
  {
   "cell_type": "code",
   "execution_count": 43,
   "id": "2ce5e4cd",
   "metadata": {},
   "outputs": [
    {
     "data": {
      "image/png": "[encoded data removed]",
      "text/plain": [
       "<Figure size 640x480 with 1 Axes>"
      ]
     },
     "metadata": {},
     "output_type": "display_data"
    }
   ],
   "source": [
    "plt.hist(ten['4s'])\n",
    "plt.xticks(rotation=90)\n",
    "plt.show()"
   ]
  },
  {
   "cell_type": "code",
   "execution_count": null,
   "id": "0726080e",
   "metadata": {},
   "outputs": [],
   "source": [
    "#Media polularity dataset analysis"
   ]
  },
  {
   "cell_type": "code",
   "execution_count": 95,
   "id": "d6e4477a",
   "metadata": {},
   "outputs": [],
   "source": [
    "df = pd.read_csv('popularity.csv',header = 0)"
   ]
  },
  {
   "cell_type": "code",
   "execution_count": 110,
   "id": "63f25ab8",
   "metadata": {},
   "outputs": [
    {
     "data": {
      "text/plain": [
       "0.1     708.0\n",
       "0.2     870.6\n",
       "0.3    1000.0\n",
       "0.4    1200.0\n",
       "0.5    1400.0\n",
       "0.6    1800.0\n",
       "0.7    2300.0\n",
       "0.8    3400.0\n",
       "0.9    6200.0\n",
       "Name:  shares, dtype: float64"
      ]
     },
     "execution_count": 110,
     "metadata": {},
     "output_type": "execute_result"
    }
   ],
   "source": [
    "df[' shares'].quantile(np.arange(0.1, 1, 0.1))"
   ]
  },
  {
   "cell_type": "code",
   "execution_count": 83,
   "id": "96897ae6",
   "metadata": {},
   "outputs": [
    {
     "data": {
      "text/plain": [
       "(30718, 61)"
      ]
     },
     "execution_count": 83,
     "metadata": {},
     "output_type": "execute_result"
    }
   ],
   "source": [
    "df = df[df[' shares']<(df[' shares'].quantile(0.78))]\n",
    "df.shape"
   ]
  },
  {
   "cell_type": "code",
   "execution_count": 58,
   "id": "deef54ff",
   "metadata": {},
   "outputs": [],
   "source": [
    "arr = np.array(df[' num_keywords'])"
   ]
  },
  {
   "cell_type": "code",
   "execution_count": 59,
   "id": "7371dd43",
   "metadata": {},
   "outputs": [
    {
     "data": {
      "text/plain": [
       "array([5., 4., 6., ..., 8., 5., 4.])"
      ]
     },
     "execution_count": 59,
     "metadata": {},
     "output_type": "execute_result"
    }
   ],
   "source": [
    "arr"
   ]
  },
  {
   "cell_type": "code",
   "execution_count": 61,
   "id": "e9dc1495",
   "metadata": {},
   "outputs": [
    {
     "name": "stderr",
     "output_type": "stream",
     "text": [
      "/var/folders/fj/4trbrrhn72b12j1r1vhm2g080000gn/T/ipykernel_21031/1248898858.py:2: FutureWarning: Unlike other reduction functions (e.g. `skew`, `kurtosis`), the default behavior of `mode` typically preserves the axis it acts along. In SciPy 1.11.0, this behavior will change: the default value of `keepdims` will become False, the `axis` over which the statistic is taken will be eliminated, and the value None will no longer be accepted. Set `keepdims` to True or False to avoid this warning.\n",
      "  st.mode(arr)\n"
     ]
    },
    {
     "data": {
      "text/plain": [
       "ModeResult(mode=array([7.]), count=array([7322]))"
      ]
     },
     "execution_count": 61,
     "metadata": {},
     "output_type": "execute_result"
    }
   ],
   "source": [
    "from scipy import stats as st\n",
    "st.mode(arr)"
   ]
  },
  {
   "cell_type": "code",
   "execution_count": 64,
   "id": "fb3481cb",
   "metadata": {},
   "outputs": [
    {
     "data": {
      "text/plain": [
       "3395.3801836343455"
      ]
     },
     "execution_count": 64,
     "metadata": {},
     "output_type": "execute_result"
    }
   ],
   "source": [
    "arrshares = np.array(df[' shares'])\n",
    "np.mean(arrshares)"
   ]
  },
  {
   "cell_type": "code",
   "execution_count": 66,
   "id": "0f0ec01f",
   "metadata": {},
   "outputs": [
    {
     "data": {
      "text/plain": [
       "1400.0"
      ]
     },
     "execution_count": 66,
     "metadata": {},
     "output_type": "execute_result"
    }
   ],
   "source": [
    "np.median(arrshares)"
   ]
  },
  {
   "cell_type": "code",
   "execution_count": 69,
   "id": "fa7a7d66",
   "metadata": {},
   "outputs": [
    {
     "data": {
      "text/plain": [
       "843300"
      ]
     },
     "execution_count": 69,
     "metadata": {},
     "output_type": "execute_result"
    }
   ],
   "source": [
    "np.max(arrshares)"
   ]
  },
  {
   "cell_type": "code",
   "execution_count": 67,
   "id": "faa36bca",
   "metadata": {},
   "outputs": [
    {
     "data": {
      "image/png": "[encoded data removed]",
      "text/plain": [
       "<Figure size 640x480 with 1 Axes>"
      ]
     },
     "metadata": {},
     "output_type": "display_data"
    }
   ],
   "source": [
    "plt.hist(df[' shares'])\n",
    "plt.xticks(rotation=90)\n",
    "plt.show()"
   ]
  },
  {
   "cell_type": "code",
   "execution_count": 68,
   "id": "f1ed5b98",
   "metadata": {},
   "outputs": [
    {
     "data": {
      "image/png": "[encoded data removed]",
      "text/plain": [
       "<Figure size 640x480 with 1 Axes>"
      ]
     },
     "metadata": {},
     "output_type": "display_data"
    }
   ],
   "source": [
    "plt.boxplot(df[' shares'])\n",
    "plt.xticks(rotation=90)\n",
    "plt.show()"
   ]
  },
  {
   "cell_type": "code",
   "execution_count": null,
   "id": "64028afa",
   "metadata": {},
   "outputs": [],
   "source": [
    "q1 = df1['shares']"
   ]
  },
  {
   "cell_type": "code",
   "execution_count": 125,
   "id": "d9bb7807",
   "metadata": {},
   "outputs": [
    {
     "data": {
      "text/plain": [
       "(39644, 61)"
      ]
     },
     "execution_count": 125,
     "metadata": {},
     "output_type": "execute_result"
    }
   ],
   "source": [
    "pop = pd.read_csv('popularity.csv',header = 0)\n",
    "pop.shape"
   ]
  },
  {
   "cell_type": "code",
   "execution_count": 126,
   "id": "85958e4c",
   "metadata": {},
   "outputs": [
    {
     "data": {
      "text/plain": [
       "(37663, 61)"
      ]
     },
     "execution_count": 126,
     "metadata": {},
     "output_type": "execute_result"
    }
   ],
   "source": [
    "pop = pop[~(pop[' shares']>(pop[' shares'].quantile(0.95)))]\n",
    "pop.shape"
   ]
  },
  {
   "cell_type": "code",
   "execution_count": 127,
   "id": "ab56dfd6",
   "metadata": {},
   "outputs": [
    {
     "data": {
      "text/plain": [
       "2074.334386533202"
      ]
     },
     "execution_count": 127,
     "metadata": {},
     "output_type": "execute_result"
    }
   ],
   "source": [
    "pop[' shares'].mean()"
   ]
  },
  {
   "cell_type": "code",
   "execution_count": 128,
   "id": "85ffe89d",
   "metadata": {},
   "outputs": [
    {
     "data": {
      "text/plain": [
       "1871.8141388442016"
      ]
     },
     "execution_count": 128,
     "metadata": {},
     "output_type": "execute_result"
    }
   ],
   "source": [
    "pop[' shares'].std()"
   ]
  },
  {
   "cell_type": "code",
   "execution_count": 130,
   "id": "d2709b72",
   "metadata": {},
   "outputs": [
    {
     "data": {
      "text/html": [
       "<div>\n",
       "<style scoped>\n",
       "    .dataframe tbody tr th:only-of-type {\n",
       "        vertical-align: middle;\n",
       "    }\n",
       "\n",
       "    .dataframe tbody tr th {\n",
       "        vertical-align: top;\n",
       "    }\n",
       "\n",
       "    .dataframe thead th {\n",
       "        text-align: right;\n",
       "    }\n",
       "</style>\n",
       "<table border=\"1\" class=\"dataframe\">\n",
       "  <thead>\n",
       "    <tr style=\"text-align: right;\">\n",
       "      <th></th>\n",
       "      <th>timedelta</th>\n",
       "      <th>n_tokens_title</th>\n",
       "      <th>n_tokens_content</th>\n",
       "      <th>n_unique_tokens</th>\n",
       "      <th>n_non_stop_words</th>\n",
       "      <th>n_non_stop_unique_tokens</th>\n",
       "      <th>num_hrefs</th>\n",
       "      <th>num_self_hrefs</th>\n",
       "      <th>num_imgs</th>\n",
       "      <th>num_videos</th>\n",
       "      <th>...</th>\n",
       "      <th>min_positive_polarity</th>\n",
       "      <th>max_positive_polarity</th>\n",
       "      <th>avg_negative_polarity</th>\n",
       "      <th>min_negative_polarity</th>\n",
       "      <th>max_negative_polarity</th>\n",
       "      <th>title_subjectivity</th>\n",
       "      <th>title_sentiment_polarity</th>\n",
       "      <th>abs_title_subjectivity</th>\n",
       "      <th>abs_title_sentiment_polarity</th>\n",
       "      <th>shares</th>\n",
       "    </tr>\n",
       "  </thead>\n",
       "  <tbody>\n",
       "    <tr>\n",
       "      <th>count</th>\n",
       "      <td>37663.000000</td>\n",
       "      <td>37663.000000</td>\n",
       "      <td>37663.000000</td>\n",
       "      <td>37663.000000</td>\n",
       "      <td>37663.000000</td>\n",
       "      <td>37663.000000</td>\n",
       "      <td>37663.000000</td>\n",
       "      <td>37663.000000</td>\n",
       "      <td>37663.000000</td>\n",
       "      <td>37663.000000</td>\n",
       "      <td>...</td>\n",
       "      <td>37663.000000</td>\n",
       "      <td>37663.000000</td>\n",
       "      <td>37663.000000</td>\n",
       "      <td>37663.000000</td>\n",
       "      <td>37663.000000</td>\n",
       "      <td>37663.000000</td>\n",
       "      <td>37663.000000</td>\n",
       "      <td>37663.000000</td>\n",
       "      <td>37663.000000</td>\n",
       "      <td>37663.000000</td>\n",
       "    </tr>\n",
       "    <tr>\n",
       "      <th>mean</th>\n",
       "      <td>354.205427</td>\n",
       "      <td>10.394658</td>\n",
       "      <td>547.993601</td>\n",
       "      <td>0.549110</td>\n",
       "      <td>0.998858</td>\n",
       "      <td>0.690760</td>\n",
       "      <td>10.747259</td>\n",
       "      <td>3.301967</td>\n",
       "      <td>4.437405</td>\n",
       "      <td>1.214216</td>\n",
       "      <td>...</td>\n",
       "      <td>0.095078</td>\n",
       "      <td>0.755888</td>\n",
       "      <td>-0.258338</td>\n",
       "      <td>-0.520399</td>\n",
       "      <td>-0.107103</td>\n",
       "      <td>0.279444</td>\n",
       "      <td>0.070141</td>\n",
       "      <td>0.341902</td>\n",
       "      <td>0.153909</td>\n",
       "      <td>2074.334387</td>\n",
       "    </tr>\n",
       "    <tr>\n",
       "      <th>std</th>\n",
       "      <td>214.867086</td>\n",
       "      <td>2.112319</td>\n",
       "      <td>467.255173</td>\n",
       "      <td>3.611926</td>\n",
       "      <td>5.366809</td>\n",
       "      <td>3.349307</td>\n",
       "      <td>11.127499</td>\n",
       "      <td>3.855264</td>\n",
       "      <td>8.203935</td>\n",
       "      <td>4.011003</td>\n",
       "      <td>...</td>\n",
       "      <td>0.070550</td>\n",
       "      <td>0.246801</td>\n",
       "      <td>0.126841</td>\n",
       "      <td>0.289643</td>\n",
       "      <td>0.094539</td>\n",
       "      <td>0.322447</td>\n",
       "      <td>0.262575</td>\n",
       "      <td>0.188975</td>\n",
       "      <td>0.224003</td>\n",
       "      <td>1871.814139</td>\n",
       "    </tr>\n",
       "    <tr>\n",
       "      <th>min</th>\n",
       "      <td>8.000000</td>\n",
       "      <td>2.000000</td>\n",
       "      <td>0.000000</td>\n",
       "      <td>0.000000</td>\n",
       "      <td>0.000000</td>\n",
       "      <td>0.000000</td>\n",
       "      <td>0.000000</td>\n",
       "      <td>0.000000</td>\n",
       "      <td>0.000000</td>\n",
       "      <td>0.000000</td>\n",
       "      <td>...</td>\n",
       "      <td>0.000000</td>\n",
       "      <td>0.000000</td>\n",
       "      <td>-1.000000</td>\n",
       "      <td>-1.000000</td>\n",
       "      <td>-1.000000</td>\n",
       "      <td>0.000000</td>\n",
       "      <td>-1.000000</td>\n",
       "      <td>0.000000</td>\n",
       "      <td>0.000000</td>\n",
       "      <td>1.000000</td>\n",
       "    </tr>\n",
       "    <tr>\n",
       "      <th>25%</th>\n",
       "      <td>163.000000</td>\n",
       "      <td>9.000000</td>\n",
       "      <td>248.000000</td>\n",
       "      <td>0.470776</td>\n",
       "      <td>1.000000</td>\n",
       "      <td>0.626263</td>\n",
       "      <td>4.000000</td>\n",
       "      <td>1.000000</td>\n",
       "      <td>1.000000</td>\n",
       "      <td>0.000000</td>\n",
       "      <td>...</td>\n",
       "      <td>0.050000</td>\n",
       "      <td>0.600000</td>\n",
       "      <td>-0.326389</td>\n",
       "      <td>-0.700000</td>\n",
       "      <td>-0.125000</td>\n",
       "      <td>0.000000</td>\n",
       "      <td>0.000000</td>\n",
       "      <td>0.166667</td>\n",
       "      <td>0.000000</td>\n",
       "      <td>927.000000</td>\n",
       "    </tr>\n",
       "    <tr>\n",
       "      <th>50%</th>\n",
       "      <td>338.000000</td>\n",
       "      <td>10.000000</td>\n",
       "      <td>413.000000</td>\n",
       "      <td>0.538690</td>\n",
       "      <td>1.000000</td>\n",
       "      <td>0.690583</td>\n",
       "      <td>7.000000</td>\n",
       "      <td>3.000000</td>\n",
       "      <td>1.000000</td>\n",
       "      <td>0.000000</td>\n",
       "      <td>...</td>\n",
       "      <td>0.100000</td>\n",
       "      <td>0.800000</td>\n",
       "      <td>-0.251852</td>\n",
       "      <td>-0.500000</td>\n",
       "      <td>-0.100000</td>\n",
       "      <td>0.125000</td>\n",
       "      <td>0.000000</td>\n",
       "      <td>0.500000</td>\n",
       "      <td>0.000000</td>\n",
       "      <td>1400.000000</td>\n",
       "    </tr>\n",
       "    <tr>\n",
       "      <th>75%</th>\n",
       "      <td>545.000000</td>\n",
       "      <td>12.000000</td>\n",
       "      <td>718.000000</td>\n",
       "      <td>0.607477</td>\n",
       "      <td>1.000000</td>\n",
       "      <td>0.754386</td>\n",
       "      <td>13.000000</td>\n",
       "      <td>4.000000</td>\n",
       "      <td>4.000000</td>\n",
       "      <td>1.000000</td>\n",
       "      <td>...</td>\n",
       "      <td>0.100000</td>\n",
       "      <td>1.000000</td>\n",
       "      <td>-0.186111</td>\n",
       "      <td>-0.300000</td>\n",
       "      <td>-0.050000</td>\n",
       "      <td>0.500000</td>\n",
       "      <td>0.136364</td>\n",
       "      <td>0.500000</td>\n",
       "      <td>0.250000</td>\n",
       "      <td>2400.000000</td>\n",
       "    </tr>\n",
       "    <tr>\n",
       "      <th>max</th>\n",
       "      <td>731.000000</td>\n",
       "      <td>23.000000</td>\n",
       "      <td>7764.000000</td>\n",
       "      <td>701.000000</td>\n",
       "      <td>1042.000000</td>\n",
       "      <td>650.000000</td>\n",
       "      <td>304.000000</td>\n",
       "      <td>116.000000</td>\n",
       "      <td>128.000000</td>\n",
       "      <td>75.000000</td>\n",
       "      <td>...</td>\n",
       "      <td>1.000000</td>\n",
       "      <td>1.000000</td>\n",
       "      <td>0.000000</td>\n",
       "      <td>0.000000</td>\n",
       "      <td>0.000000</td>\n",
       "      <td>1.000000</td>\n",
       "      <td>1.000000</td>\n",
       "      <td>0.500000</td>\n",
       "      <td>1.000000</td>\n",
       "      <td>10800.000000</td>\n",
       "    </tr>\n",
       "  </tbody>\n",
       "</table>\n",
       "<p>8 rows × 60 columns</p>\n",
       "</div>"
      ],
      "text/plain": [
       "          timedelta   n_tokens_title   n_tokens_content   n_unique_tokens  \\\n",
       "count  37663.000000     37663.000000       37663.000000      37663.000000   \n",
       "mean     354.205427        10.394658         547.993601          0.549110   \n",
       "std      214.867086         2.112319         467.255173          3.611926   \n",
       "min        8.000000         2.000000           0.000000          0.000000   \n",
       "25%      163.000000         9.000000         248.000000          0.470776   \n",
       "50%      338.000000        10.000000         413.000000          0.538690   \n",
       "75%      545.000000        12.000000         718.000000          0.607477   \n",
       "max      731.000000        23.000000        7764.000000        701.000000   \n",
       "\n",
       "        n_non_stop_words   n_non_stop_unique_tokens     num_hrefs  \\\n",
       "count       37663.000000               37663.000000  37663.000000   \n",
       "mean            0.998858                   0.690760     10.747259   \n",
       "std             5.366809                   3.349307     11.127499   \n",
       "min             0.000000                   0.000000      0.000000   \n",
       "25%             1.000000                   0.626263      4.000000   \n",
       "50%             1.000000                   0.690583      7.000000   \n",
       "75%             1.000000                   0.754386     13.000000   \n",
       "max          1042.000000                 650.000000    304.000000   \n",
       "\n",
       "        num_self_hrefs      num_imgs    num_videos  ...  \\\n",
       "count     37663.000000  37663.000000  37663.000000  ...   \n",
       "mean          3.301967      4.437405      1.214216  ...   \n",
       "std           3.855264      8.203935      4.011003  ...   \n",
       "min           0.000000      0.000000      0.000000  ...   \n",
       "25%           1.000000      1.000000      0.000000  ...   \n",
       "50%           3.000000      1.000000      0.000000  ...   \n",
       "75%           4.000000      4.000000      1.000000  ...   \n",
       "max         116.000000    128.000000     75.000000  ...   \n",
       "\n",
       "        min_positive_polarity   max_positive_polarity   avg_negative_polarity  \\\n",
       "count            37663.000000            37663.000000            37663.000000   \n",
       "mean                 0.095078                0.755888               -0.258338   \n",
       "std                  0.070550                0.246801                0.126841   \n",
       "min                  0.000000                0.000000               -1.000000   \n",
       "25%                  0.050000                0.600000               -0.326389   \n",
       "50%                  0.100000                0.800000               -0.251852   \n",
       "75%                  0.100000                1.000000               -0.186111   \n",
       "max                  1.000000                1.000000                0.000000   \n",
       "\n",
       "        min_negative_polarity   max_negative_polarity   title_subjectivity  \\\n",
       "count            37663.000000            37663.000000         37663.000000   \n",
       "mean                -0.520399               -0.107103             0.279444   \n",
       "std                  0.289643                0.094539             0.322447   \n",
       "min                 -1.000000               -1.000000             0.000000   \n",
       "25%                 -0.700000               -0.125000             0.000000   \n",
       "50%                 -0.500000               -0.100000             0.125000   \n",
       "75%                 -0.300000               -0.050000             0.500000   \n",
       "max                  0.000000                0.000000             1.000000   \n",
       "\n",
       "        title_sentiment_polarity   abs_title_subjectivity  \\\n",
       "count               37663.000000             37663.000000   \n",
       "mean                    0.070141                 0.341902   \n",
       "std                     0.262575                 0.188975   \n",
       "min                    -1.000000                 0.000000   \n",
       "25%                     0.000000                 0.166667   \n",
       "50%                     0.000000                 0.500000   \n",
       "75%                     0.136364                 0.500000   \n",
       "max                     1.000000                 0.500000   \n",
       "\n",
       "        abs_title_sentiment_polarity        shares  \n",
       "count                   37663.000000  37663.000000  \n",
       "mean                        0.153909   2074.334387  \n",
       "std                         0.224003   1871.814139  \n",
       "min                         0.000000      1.000000  \n",
       "25%                         0.000000    927.000000  \n",
       "50%                         0.000000   1400.000000  \n",
       "75%                         0.250000   2400.000000  \n",
       "max                         1.000000  10800.000000  \n",
       "\n",
       "[8 rows x 60 columns]"
      ]
     },
     "execution_count": 130,
     "metadata": {},
     "output_type": "execute_result"
    }
   ],
   "source": [
    "pop.describe()"
   ]
  },
  {
   "cell_type": "code",
   "execution_count": null,
   "id": "9e209ea8",
   "metadata": {},
   "outputs": [],
   "source": [
    "pop = pd.read_csv('popularity.csv',header = 0)\n",
    "pop.shape"
   ]
  },
  {
   "cell_type": "code",
   "execution_count": null,
   "id": "803b2d96",
   "metadata": {},
   "outputs": [],
   "source": []
  }
 ],
 "metadata": {
  "kernelspec": {
   "display_name": "Python 3 (ipykernel)",
   "language": "python",
   "name": "python3"
  },
  "language_info": {
   "codemirror_mode": {
    "name": "ipython",
    "version": 3
   },
   "file_extension": ".py",
   "mimetype": "text/x-python",
   "name": "python",
   "nbconvert_exporter": "python",
   "pygments_lexer": "ipython3",
   "version": "3.9.13"
  }
 },
 "nbformat": 4,
 "nbformat_minor": 5
}
