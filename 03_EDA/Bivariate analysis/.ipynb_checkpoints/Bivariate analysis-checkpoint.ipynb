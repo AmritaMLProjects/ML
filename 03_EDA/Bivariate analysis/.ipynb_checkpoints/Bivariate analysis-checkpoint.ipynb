{
 "cells": [
  {
   "cell_type": "code",
   "execution_count": 1,
   "id": "7d123f01",
   "metadata": {},
   "outputs": [],
   "source": [
    "import pandas as pd"
   ]
  },
  {
   "cell_type": "code",
   "execution_count": 2,
   "id": "7fe027a5",
   "metadata": {},
   "outputs": [],
   "source": [
    "df = pd.read_csv('EDA_Gold_Silver_prices.csv')"
   ]
  },
  {
   "cell_type": "code",
   "execution_count": 3,
   "id": "b35e076f",
   "metadata": {},
   "outputs": [
    {
     "data": {
      "text/html": [
       "<div>\n",
       "<style scoped>\n",
       "    .dataframe tbody tr th:only-of-type {\n",
       "        vertical-align: middle;\n",
       "    }\n",
       "\n",
       "    .dataframe tbody tr th {\n",
       "        vertical-align: top;\n",
       "    }\n",
       "\n",
       "    .dataframe thead th {\n",
       "        text-align: right;\n",
       "    }\n",
       "</style>\n",
       "<table border=\"1\" class=\"dataframe\">\n",
       "  <thead>\n",
       "    <tr style=\"text-align: right;\">\n",
       "      <th></th>\n",
       "      <th>Month</th>\n",
       "      <th>SilverPrice</th>\n",
       "      <th>GoldPrice</th>\n",
       "    </tr>\n",
       "  </thead>\n",
       "  <tbody>\n",
       "    <tr>\n",
       "      <th>0</th>\n",
       "      <td>Mar-97</td>\n",
       "      <td>186.48</td>\n",
       "      <td>12619.24</td>\n",
       "    </tr>\n",
       "    <tr>\n",
       "      <th>1</th>\n",
       "      <td>Apr-97</td>\n",
       "      <td>170.65</td>\n",
       "      <td>12338.59</td>\n",
       "    </tr>\n",
       "    <tr>\n",
       "      <th>2</th>\n",
       "      <td>May-97</td>\n",
       "      <td>170.44</td>\n",
       "      <td>12314.94</td>\n",
       "    </tr>\n",
       "    <tr>\n",
       "      <th>3</th>\n",
       "      <td>Jun-97</td>\n",
       "      <td>169.96</td>\n",
       "      <td>12202.78</td>\n",
       "    </tr>\n",
       "    <tr>\n",
       "      <th>4</th>\n",
       "      <td>Jul-97</td>\n",
       "      <td>155.80</td>\n",
       "      <td>11582.07</td>\n",
       "    </tr>\n",
       "  </tbody>\n",
       "</table>\n",
       "</div>"
      ],
      "text/plain": [
       "    Month  SilverPrice  GoldPrice\n",
       "0  Mar-97       186.48   12619.24\n",
       "1  Apr-97       170.65   12338.59\n",
       "2  May-97       170.44   12314.94\n",
       "3  Jun-97       169.96   12202.78\n",
       "4  Jul-97       155.80   11582.07"
      ]
     },
     "execution_count": 3,
     "metadata": {},
     "output_type": "execute_result"
    }
   ],
   "source": [
    "df.head()"
   ]
  },
  {
   "cell_type": "code",
   "execution_count": 4,
   "id": "4a5b7e6e",
   "metadata": {},
   "outputs": [],
   "source": [
    "corr = df['SilverPrice'].corr(df['GoldPrice'])"
   ]
  },
  {
   "cell_type": "code",
   "execution_count": 5,
   "id": "338b7c8f",
   "metadata": {},
   "outputs": [
    {
     "data": {
      "text/plain": [
       "0.9542559570539786"
      ]
     },
     "execution_count": 5,
     "metadata": {},
     "output_type": "execute_result"
    }
   ],
   "source": [
    "corr"
   ]
  },
  {
   "cell_type": "code",
   "execution_count": 6,
   "id": "072f777c",
   "metadata": {},
   "outputs": [],
   "source": [
    "corr = (df['GoldPrice']).corr(df['SilverPrice'])"
   ]
  },
  {
   "cell_type": "code",
   "execution_count": 7,
   "id": "5e046a64",
   "metadata": {},
   "outputs": [
    {
     "data": {
      "text/plain": [
       "0.9542559570539786"
      ]
     },
     "execution_count": 7,
     "metadata": {},
     "output_type": "execute_result"
    }
   ],
   "source": [
    "corr"
   ]
  },
  {
   "cell_type": "code",
   "execution_count": 8,
   "id": "7f029038",
   "metadata": {},
   "outputs": [
    {
     "data": {
      "text/plain": [
       "Month           object\n",
       "SilverPrice    float64\n",
       "GoldPrice      float64\n",
       "dtype: object"
      ]
     },
     "execution_count": 8,
     "metadata": {},
     "output_type": "execute_result"
    }
   ],
   "source": [
    "df.dtypes"
   ]
  },
  {
   "cell_type": "code",
   "execution_count": 9,
   "id": "7bf1e8e8",
   "metadata": {},
   "outputs": [],
   "source": [
    "def extract_year(x):\n",
    "    x = str(x)\n",
    "    return x.split('-')[-1]"
   ]
  },
  {
   "cell_type": "code",
   "execution_count": 10,
   "id": "dcd7bcfd",
   "metadata": {},
   "outputs": [],
   "source": [
    "df['Year'] = df['Month'].apply(extract_year)"
   ]
  },
  {
   "cell_type": "code",
   "execution_count": 11,
   "id": "824d22dc",
   "metadata": {},
   "outputs": [
    {
     "data": {
      "text/html": [
       "<div>\n",
       "<style scoped>\n",
       "    .dataframe tbody tr th:only-of-type {\n",
       "        vertical-align: middle;\n",
       "    }\n",
       "\n",
       "    .dataframe tbody tr th {\n",
       "        vertical-align: top;\n",
       "    }\n",
       "\n",
       "    .dataframe thead th {\n",
       "        text-align: right;\n",
       "    }\n",
       "</style>\n",
       "<table border=\"1\" class=\"dataframe\">\n",
       "  <thead>\n",
       "    <tr style=\"text-align: right;\">\n",
       "      <th></th>\n",
       "      <th>Month</th>\n",
       "      <th>SilverPrice</th>\n",
       "      <th>GoldPrice</th>\n",
       "      <th>Year</th>\n",
       "    </tr>\n",
       "  </thead>\n",
       "  <tbody>\n",
       "    <tr>\n",
       "      <th>0</th>\n",
       "      <td>Mar-97</td>\n",
       "      <td>186.48</td>\n",
       "      <td>12619.24</td>\n",
       "      <td>97</td>\n",
       "    </tr>\n",
       "    <tr>\n",
       "      <th>1</th>\n",
       "      <td>Apr-97</td>\n",
       "      <td>170.65</td>\n",
       "      <td>12338.59</td>\n",
       "      <td>97</td>\n",
       "    </tr>\n",
       "    <tr>\n",
       "      <th>2</th>\n",
       "      <td>May-97</td>\n",
       "      <td>170.44</td>\n",
       "      <td>12314.94</td>\n",
       "      <td>97</td>\n",
       "    </tr>\n",
       "    <tr>\n",
       "      <th>3</th>\n",
       "      <td>Jun-97</td>\n",
       "      <td>169.96</td>\n",
       "      <td>12202.78</td>\n",
       "      <td>97</td>\n",
       "    </tr>\n",
       "    <tr>\n",
       "      <th>4</th>\n",
       "      <td>Jul-97</td>\n",
       "      <td>155.80</td>\n",
       "      <td>11582.07</td>\n",
       "      <td>97</td>\n",
       "    </tr>\n",
       "    <tr>\n",
       "      <th>5</th>\n",
       "      <td>Aug-97</td>\n",
       "      <td>162.16</td>\n",
       "      <td>11640.38</td>\n",
       "      <td>97</td>\n",
       "    </tr>\n",
       "    <tr>\n",
       "      <th>6</th>\n",
       "      <td>Sep-97</td>\n",
       "      <td>172.13</td>\n",
       "      <td>11755.57</td>\n",
       "      <td>97</td>\n",
       "    </tr>\n",
       "    <tr>\n",
       "      <th>7</th>\n",
       "      <td>Oct-97</td>\n",
       "      <td>181.57</td>\n",
       "      <td>11769.89</td>\n",
       "      <td>97</td>\n",
       "    </tr>\n",
       "    <tr>\n",
       "      <th>8</th>\n",
       "      <td>Nov-97</td>\n",
       "      <td>187.99</td>\n",
       "      <td>11370.19</td>\n",
       "      <td>97</td>\n",
       "    </tr>\n",
       "    <tr>\n",
       "      <th>9</th>\n",
       "      <td>Dec-97</td>\n",
       "      <td>224.16</td>\n",
       "      <td>11324.79</td>\n",
       "      <td>97</td>\n",
       "    </tr>\n",
       "  </tbody>\n",
       "</table>\n",
       "</div>"
      ],
      "text/plain": [
       "    Month  SilverPrice  GoldPrice Year\n",
       "0  Mar-97       186.48   12619.24   97\n",
       "1  Apr-97       170.65   12338.59   97\n",
       "2  May-97       170.44   12314.94   97\n",
       "3  Jun-97       169.96   12202.78   97\n",
       "4  Jul-97       155.80   11582.07   97\n",
       "5  Aug-97       162.16   11640.38   97\n",
       "6  Sep-97       172.13   11755.57   97\n",
       "7  Oct-97       181.57   11769.89   97\n",
       "8  Nov-97       187.99   11370.19   97\n",
       "9  Dec-97       224.16   11324.79   97"
      ]
     },
     "execution_count": 11,
     "metadata": {},
     "output_type": "execute_result"
    }
   ],
   "source": [
    "df.head(10)"
   ]
  },
  {
   "cell_type": "code",
   "execution_count": 12,
   "id": "049e1c4a",
   "metadata": {},
   "outputs": [],
   "source": [
    "df_2008 = df[df['Year']=='08']"
   ]
  },
  {
   "cell_type": "code",
   "execution_count": 13,
   "id": "0d2b1275",
   "metadata": {},
   "outputs": [
    {
     "data": {
      "text/plain": [
       "array(['08'], dtype=object)"
      ]
     },
     "execution_count": 13,
     "metadata": {},
     "output_type": "execute_result"
    }
   ],
   "source": [
    "df_2008['Year'].unique()"
   ]
  },
  {
   "cell_type": "code",
   "execution_count": 16,
   "id": "01c3d056",
   "metadata": {},
   "outputs": [
    {
     "data": {
      "text/html": [
       "<div>\n",
       "<style scoped>\n",
       "    .dataframe tbody tr th:only-of-type {\n",
       "        vertical-align: middle;\n",
       "    }\n",
       "\n",
       "    .dataframe tbody tr th {\n",
       "        vertical-align: top;\n",
       "    }\n",
       "\n",
       "    .dataframe thead th {\n",
       "        text-align: right;\n",
       "    }\n",
       "</style>\n",
       "<table border=\"1\" class=\"dataframe\">\n",
       "  <thead>\n",
       "    <tr style=\"text-align: right;\">\n",
       "      <th></th>\n",
       "      <th>Month</th>\n",
       "      <th>SilverPrice</th>\n",
       "      <th>GoldPrice</th>\n",
       "      <th>Year</th>\n",
       "    </tr>\n",
       "  </thead>\n",
       "  <tbody>\n",
       "    <tr>\n",
       "      <th>130</th>\n",
       "      <td>Jan-08</td>\n",
       "      <td>632.29</td>\n",
       "      <td>35025.78</td>\n",
       "      <td>08</td>\n",
       "    </tr>\n",
       "    <tr>\n",
       "      <th>131</th>\n",
       "      <td>Feb-08</td>\n",
       "      <td>701.87</td>\n",
       "      <td>36642.46</td>\n",
       "      <td>08</td>\n",
       "    </tr>\n",
       "    <tr>\n",
       "      <th>132</th>\n",
       "      <td>Mar-08</td>\n",
       "      <td>775.49</td>\n",
       "      <td>39082.77</td>\n",
       "      <td>08</td>\n",
       "    </tr>\n",
       "    <tr>\n",
       "      <th>133</th>\n",
       "      <td>Apr-08</td>\n",
       "      <td>700.96</td>\n",
       "      <td>36416.00</td>\n",
       "      <td>08</td>\n",
       "    </tr>\n",
       "    <tr>\n",
       "      <th>134</th>\n",
       "      <td>May-08</td>\n",
       "      <td>718.20</td>\n",
       "      <td>37435.38</td>\n",
       "      <td>08</td>\n",
       "    </tr>\n",
       "    <tr>\n",
       "      <th>135</th>\n",
       "      <td>Jun-08</td>\n",
       "      <td>729.63</td>\n",
       "      <td>38087.88</td>\n",
       "      <td>08</td>\n",
       "    </tr>\n",
       "    <tr>\n",
       "      <th>136</th>\n",
       "      <td>Jul-08</td>\n",
       "      <td>773.80</td>\n",
       "      <td>40256.56</td>\n",
       "      <td>08</td>\n",
       "    </tr>\n",
       "    <tr>\n",
       "      <th>137</th>\n",
       "      <td>Aug-08</td>\n",
       "      <td>625.97</td>\n",
       "      <td>36026.85</td>\n",
       "      <td>08</td>\n",
       "    </tr>\n",
       "    <tr>\n",
       "      <th>138</th>\n",
       "      <td>Sep-08</td>\n",
       "      <td>555.58</td>\n",
       "      <td>37815.02</td>\n",
       "      <td>08</td>\n",
       "    </tr>\n",
       "    <tr>\n",
       "      <th>139</th>\n",
       "      <td>Oct-08</td>\n",
       "      <td>507.20</td>\n",
       "      <td>39235.79</td>\n",
       "      <td>08</td>\n",
       "    </tr>\n",
       "    <tr>\n",
       "      <th>140</th>\n",
       "      <td>Nov-08</td>\n",
       "      <td>483.55</td>\n",
       "      <td>37284.82</td>\n",
       "      <td>08</td>\n",
       "    </tr>\n",
       "    <tr>\n",
       "      <th>141</th>\n",
       "      <td>Dec-08</td>\n",
       "      <td>501.82</td>\n",
       "      <td>39696.27</td>\n",
       "      <td>08</td>\n",
       "    </tr>\n",
       "  </tbody>\n",
       "</table>\n",
       "</div>"
      ],
      "text/plain": [
       "      Month  SilverPrice  GoldPrice Year\n",
       "130  Jan-08       632.29   35025.78   08\n",
       "131  Feb-08       701.87   36642.46   08\n",
       "132  Mar-08       775.49   39082.77   08\n",
       "133  Apr-08       700.96   36416.00   08\n",
       "134  May-08       718.20   37435.38   08\n",
       "135  Jun-08       729.63   38087.88   08\n",
       "136  Jul-08       773.80   40256.56   08\n",
       "137  Aug-08       625.97   36026.85   08\n",
       "138  Sep-08       555.58   37815.02   08\n",
       "139  Oct-08       507.20   39235.79   08\n",
       "140  Nov-08       483.55   37284.82   08\n",
       "141  Dec-08       501.82   39696.27   08"
      ]
     },
     "execution_count": 16,
     "metadata": {},
     "output_type": "execute_result"
    }
   ],
   "source": [
    "df_2008"
   ]
  },
  {
   "cell_type": "code",
   "execution_count": 14,
   "id": "78d67e0f",
   "metadata": {},
   "outputs": [],
   "source": [
    "corr_08 = (df_2008['GoldPrice']).corr(df_2008['SilverPrice'])"
   ]
  },
  {
   "cell_type": "code",
   "execution_count": 15,
   "id": "74790d27",
   "metadata": {},
   "outputs": [
    {
     "data": {
      "text/plain": [
       "0.0095837574633694"
      ]
     },
     "execution_count": 15,
     "metadata": {},
     "output_type": "execute_result"
    }
   ],
   "source": [
    "corr_08"
   ]
  },
  {
   "cell_type": "code",
   "execution_count": null,
   "id": "9bcdeabd",
   "metadata": {},
   "outputs": [],
   "source": []
  }
 ],
 "metadata": {
  "kernelspec": {
   "display_name": "Python 3 (ipykernel)",
   "language": "python",
   "name": "python3"
  },
  "language_info": {
   "codemirror_mode": {
    "name": "ipython",
    "version": 3
   },
   "file_extension": ".py",
   "mimetype": "text/x-python",
   "name": "python",
   "nbconvert_exporter": "python",
   "pygments_lexer": "ipython3",
   "version": "3.9.13"
  }
 },
 "nbformat": 4,
 "nbformat_minor": 5
}
